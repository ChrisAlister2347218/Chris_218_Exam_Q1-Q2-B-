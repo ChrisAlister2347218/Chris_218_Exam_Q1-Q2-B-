{
  "nbformat": 4,
  "nbformat_minor": 0,
  "metadata": {
    "colab": {
      "provenance": []
    },
    "kernelspec": {
      "name": "python3",
      "display_name": "Python 3"
    },
    "language_info": {
      "name": "python"
    }
  },
  "cells": [
    {
      "cell_type": "markdown",
      "source": [
        "# Question 1:"
      ],
      "metadata": {
        "id": "OxBmIthXHunW"
      }
    },
    {
      "cell_type": "markdown",
      "source": [
        "### Scenario: The XOR gate is known for its complexity, as it outputs 1 only when the inputs are different.This is a challenge for a Single Layer Perceptron since XOR is not linearly separable."
      ],
      "metadata": {
        "id": "_UpEE4kYBSwZ"
      }
    },
    {
      "cell_type": "markdown",
      "source": [
        "# Importing necessary libraries"
      ],
      "metadata": {
        "id": "cKmBIQWqBmog"
      }
    },
    {
      "cell_type": "code",
      "execution_count": 42,
      "metadata": {
        "id": "lmUI6DM15lUH"
      },
      "outputs": [],
      "source": [
        "import numpy as np\n",
        "import matplotlib.pyplot as plt"
      ]
    },
    {
      "cell_type": "markdown",
      "source": [
        "# Creating a XOR table"
      ],
      "metadata": {
        "id": "0qyk-fzjBwQZ"
      }
    },
    {
      "cell_type": "code",
      "source": [
        "X = np.array([[0, 0],\n",
        "              [0, 1],\n",
        "              [1, 0],\n",
        "              [1, 1]])\n",
        "y = np.array([0, 1, 1, 0])"
      ],
      "metadata": {
        "id": "DGasuDbY6GWM"
      },
      "execution_count": 43,
      "outputs": []
    },
    {
      "cell_type": "markdown",
      "source": [
        "# Creatig a Perceptron"
      ],
      "metadata": {
        "id": "32FWYN0CB5ll"
      }
    },
    {
      "cell_type": "code",
      "source": [
        "class Perceptron:\n",
        "    def __init__(self, input_size, learning_rate=0.1, epochs=10):\n",
        "        self.weights = np.zeros(input_size + 1)  # +1 for the bias\n",
        "        self.learning_rate = learning_rate\n",
        "        self.epochs = epochs\n",
        "\n",
        "    def predict(self, inputs):\n",
        "        sum_inputs = np.dot(inputs, self.weights[1:]) + self.weights[0]\n",
        "        return 1 if sum_inputs >= 0 else 0  # threshold function\n",
        "\n",
        "    def train(self, X, y):\n",
        "        for epoch in range(self.epochs):\n",
        "            for inputs, target in zip(X, y):\n",
        "                prediction = self.predict(inputs)\n",
        "                error = target - prediction\n",
        "                self.weights[1:] += self.learning_rate * error * inputs\n",
        "                self.weights[0] += self.learning_rate * error"
      ],
      "metadata": {
        "id": "9kWyUDLK6LF6"
      },
      "execution_count": 44,
      "outputs": []
    },
    {
      "cell_type": "markdown",
      "source": [
        "# Initialize, train and test the perceptron"
      ],
      "metadata": {
        "id": "eHT_zxo0C8hV"
      }
    },
    {
      "cell_type": "code",
      "source": [
        "perceptron = Perceptron(input_size=2)\n",
        "perceptron.train(X, y)\n",
        "\n",
        "print(\"Single Layer Perceptron predictions:\")\n",
        "for inputs in X:\n",
        "    print(f\"Input: {inputs}, Prediction: {perceptron.predict(inputs)}\")"
      ],
      "metadata": {
        "colab": {
          "base_uri": "https://localhost:8080/"
        },
        "id": "Y-uab3sc6Z9Y",
        "outputId": "032b8e70-025d-49b1-dafb-8eda76c4c8d8"
      },
      "execution_count": 45,
      "outputs": [
        {
          "output_type": "stream",
          "name": "stdout",
          "text": [
            "Single Layer Perceptron predictions:\n",
            "Input: [0 0], Prediction: 1\n",
            "Input: [0 1], Prediction: 1\n",
            "Input: [1 0], Prediction: 0\n",
            "Input: [1 1], Prediction: 0\n"
          ]
        }
      ]
    },
    {
      "cell_type": "markdown",
      "source": [
        "Single Layer Perceptron fails to correctly classify the XOR outputs due to the non-linearly separable nature of XOR"
      ],
      "metadata": {
        "id": "FTA1ZxJjHN4k"
      }
    },
    {
      "cell_type": "markdown",
      "source": [
        "# Import the necessary library for MLP\n"
      ],
      "metadata": {
        "id": "JD8T_bL3DNtE"
      }
    },
    {
      "cell_type": "code",
      "source": [
        "from sklearn.neural_network import MLPClassifier\n",
        "from sklearn.metrics import accuracy_score"
      ],
      "metadata": {
        "id": "FIZqfEcB6ZRN"
      },
      "execution_count": 46,
      "outputs": []
    },
    {
      "cell_type": "markdown",
      "source": [
        "# Initialize, train and predict the Multi-Layer Perceptron (MLP) model\n"
      ],
      "metadata": {
        "id": "tXJ3zoC3DSNT"
      }
    },
    {
      "cell_type": "code",
      "source": [
        "mlp = MLPClassifier(hidden_layer_sizes=(2,), activation='relu', solver='adam', max_iter=2000)\n",
        "\n",
        "mlp.fit(X, y)\n",
        "\n",
        "y_pred = mlp.predict(X)\n",
        "\n",
        "print(\"\\nMulti-Layer Perceptron predictions:\")\n",
        "for inputs, prediction in zip(X, y_pred):\n",
        "    print(f\"Input: {inputs}, Prediction: {prediction}\")"
      ],
      "metadata": {
        "colab": {
          "base_uri": "https://localhost:8080/"
        },
        "id": "ty3wM2046u7y",
        "outputId": "ce3db678-edcf-4914-de87-3f3a23b104c7"
      },
      "execution_count": 50,
      "outputs": [
        {
          "output_type": "stream",
          "name": "stdout",
          "text": [
            "\n",
            "Multi-Layer Perceptron predictions:\n",
            "Input: [0 0], Prediction: 0\n",
            "Input: [0 1], Prediction: 1\n",
            "Input: [1 0], Prediction: 1\n",
            "Input: [1 1], Prediction: 0\n"
          ]
        },
        {
          "output_type": "stream",
          "name": "stderr",
          "text": [
            "/usr/local/lib/python3.10/dist-packages/sklearn/neural_network/_multilayer_perceptron.py:690: ConvergenceWarning: Stochastic Optimizer: Maximum iterations (2000) reached and the optimization hasn't converged yet.\n",
            "  warnings.warn(\n"
          ]
        }
      ]
    },
    {
      "cell_type": "markdown",
      "source": [
        "# Accuracy of the MLP model\n"
      ],
      "metadata": {
        "id": "PRSTcFS1Ddkp"
      }
    },
    {
      "cell_type": "code",
      "source": [
        "print(f\"\\nAccuracy: {accuracy_score(y, y_pred) * 100:.2f}%\")"
      ],
      "metadata": {
        "colab": {
          "base_uri": "https://localhost:8080/"
        },
        "id": "jeB83A1g7FoD",
        "outputId": "b73b89c4-c937-4c1e-cf29-21a6ebf7782a"
      },
      "execution_count": 51,
      "outputs": [
        {
          "output_type": "stream",
          "name": "stdout",
          "text": [
            "\n",
            "Accuracy: 100.00%\n"
          ]
        }
      ]
    },
    {
      "cell_type": "markdown",
      "source": [
        "# Visualize and plot the decision boundary\n"
      ],
      "metadata": {
        "id": "uOqN_-n4Dj23"
      }
    },
    {
      "cell_type": "code",
      "source": [
        "def plot_decision_boundary(X, y, model):\n",
        "    x_min, x_max = X[:, 0].min() - 1, X[:, 0].max() + 1\n",
        "    y_min, y_max = X[:, 1].min() - 1, X[:, 1].max() + 1\n",
        "\n",
        "    xx, yy = np.meshgrid(np.arange(x_min, x_max, 0.1),\n",
        "                         np.arange(y_min, y_max, 0.1))\n",
        "\n",
        "    Z = model.predict(np.c_[xx.ravel(), yy.ravel()])\n",
        "    Z = Z.reshape(xx.shape)\n",
        "\n",
        "    plt.contourf(xx, yy, Z, alpha=0.8)\n",
        "\n",
        "    scatter = plt.scatter(X[:, 0], X[:, 1], c=y, edgecolors='k', marker='o', cmap=plt.cm.coolwarm)\n",
        "\n",
        "    plt.colorbar(scatter)\n",
        "\n",
        "    plt.title('Decision Boundary of MLP for XOR Problem')\n",
        "    plt.xlabel('Input 1')\n",
        "    plt.ylabel('Input 2')\n",
        "\n",
        "    handles = [plt.Line2D([0], [0], marker='o', color='w', markerfacecolor='blue', markersize=10, label='0'),\n",
        "               plt.Line2D([0], [0], marker='o', color='w', markerfacecolor='red', markersize=10, label='1')]\n",
        "\n",
        "    plt.legend(handles=handles, title=\"Classes\")\n",
        "\n",
        "    plt.show()\n"
      ],
      "metadata": {
        "id": "RdeX2nR37qpP"
      },
      "execution_count": 52,
      "outputs": []
    },
    {
      "cell_type": "code",
      "source": [
        "plot_decision_boundary(X, y, mlp)"
      ],
      "metadata": {
        "colab": {
          "base_uri": "https://localhost:8080/",
          "height": 472
        },
        "id": "rrGZGd-m7RBE",
        "outputId": "aa5ae0e9-48ca-4329-8409-bc1fdc8e921e"
      },
      "execution_count": 53,
      "outputs": [
        {
          "output_type": "display_data",
          "data": {
            "text/plain": [
              "<Figure size 640x480 with 2 Axes>"
            ],
            "image/png": "[encoded data removed]"
          },
          "metadata": {}
        }
      ]
    },
    {
      "cell_type": "markdown",
      "source": [
        "The MLP will correctly classify the XOR gate. The decision boundary plot shows the non-linear separation"
      ],
      "metadata": {
        "id": "cdGElUFIHd7k"
      }
    },
    {
      "cell_type": "markdown",
      "source": [
        "# Question 2:"
      ],
      "metadata": {
        "id": "kCtTwVn6HsUA"
      }
    },
    {
      "cell_type": "markdown",
      "source": [
        "### B. Sentiment Analysis Using ANN on IMDb Movie Reviews"
      ],
      "metadata": {
        "id": "nh4QfNMUH9NB"
      }
    },
    {
      "cell_type": "code",
      "source": [
        "import pandas as pd\n",
        "import numpy as np\n",
        "import re\n",
        "import matplotlib.pyplot as plt\n",
        "from sklearn.model_selection import train_test_split\n",
        "from sklearn.metrics import accuracy_score\n",
        "from tensorflow.keras.preprocessing.text import Tokenizer\n",
        "from tensorflow.keras.preprocessing.sequence import pad_sequences\n",
        "from tensorflow.keras.models import Sequential\n",
        "from tensorflow.keras.layers import Dense, Embedding, LSTM, Dropout\n",
        "from tensorflow.keras.layers import Flatten\n",
        "from tensorflow.keras.layers import ReLU\n",
        "from tensorflow.keras.layers import Input\n",
        "from tensorflow.keras.optimizers import Adam\n",
        "from tensorflow.keras.layers import Activation\n",
        "from tensorflow.keras import layers"
      ],
      "metadata": {
        "id": "e9slVCX9Cgw_"
      },
      "execution_count": 54,
      "outputs": []
    },
    {
      "cell_type": "markdown",
      "source": [
        "# Step 1: Load the dataset"
      ],
      "metadata": {
        "id": "nYpOlndCDrbx"
      }
    },
    {
      "cell_type": "code",
      "source": [
        "df = pd.read_csv('/content/IMDB - IMDB Dataset.csv')"
      ],
      "metadata": {
        "id": "3Uz-hqh8ChkQ"
      },
      "execution_count": 55,
      "outputs": []
    },
    {
      "cell_type": "markdown",
      "source": [
        "# Step 2: Data Preprocessing\n"
      ],
      "metadata": {
        "id": "rxgIFVppD2j1"
      }
    },
    {
      "cell_type": "code",
      "source": [
        "def clean_text(text):\n",
        "    text = re.sub(r'<br />', ' ', text)\n",
        "    text = re.sub(r'[^a-zA-Z\\s]', '', text)\n",
        "    text = text.lower()\n",
        "    return text\n",
        "\n",
        "df['review'] = df['review'].apply(clean_text)\n",
        "df['sentiment'] = df['sentiment'].map({'positive': 1, 'negative': 0})"
      ],
      "metadata": {
        "id": "aBjZnGvKCmGl"
      },
      "execution_count": 66,
      "outputs": []
    },
    {
      "cell_type": "markdown",
      "source": [
        "# Step 3: Tokenize and Pad Sequences\n"
      ],
      "metadata": {
        "id": "YgWFMtXHD7lg"
      }
    },
    {
      "cell_type": "code",
      "source": [
        "tokenizer = Tokenizer(num_words=5000)\n",
        "tokenizer.fit_on_texts(df['review'])"
      ],
      "metadata": {
        "id": "7wdrVe5aCqEO"
      },
      "execution_count": 57,
      "outputs": []
    },
    {
      "cell_type": "code",
      "source": [
        "X = tokenizer.texts_to_sequences(df['review'])\n",
        "X = pad_sequences(X, maxlen=200)\n",
        "y = df['sentiment'].values"
      ],
      "metadata": {
        "id": "cp6SAM5iCvFp"
      },
      "execution_count": 58,
      "outputs": []
    },
    {
      "cell_type": "markdown",
      "source": [
        "# Step 4: Train-test split\n"
      ],
      "metadata": {
        "id": "SYdMw2QRD-w_"
      }
    },
    {
      "cell_type": "code",
      "source": [
        "X_train, X_test, y_train, y_test = train_test_split(X, y, test_size=0.2, random_state=42)"
      ],
      "metadata": {
        "id": "YlR7JhBHD_cb"
      },
      "execution_count": 59,
      "outputs": []
    },
    {
      "cell_type": "markdown",
      "source": [
        "# Step 5: Build the ANN model\n"
      ],
      "metadata": {
        "id": "TnUFbuSGEPWK"
      }
    },
    {
      "cell_type": "code",
      "source": [
        "model = Sequential()\n",
        "\n",
        "# Embedd\n",
        "model.add(Embedding(input_dim=5000, output_dim=32, input_length=200))\n",
        "\n",
        "# flatten\n",
        "model.add(Flatten())\n",
        "\n",
        "# hidden layer (relu)\n",
        "model.add(Dense(64))\n",
        "model.add(ReLU())\n",
        "model.add(Dropout(0.5))\n",
        "\n",
        "# output layer(Sigmoid)\n",
        "model.add(Dense(1, activation='sigmoid'))\n",
        "\n",
        "# compile\n",
        "model.compile(optimizer='adam', loss='binary_crossentropy', metrics=['accuracy'])"
      ],
      "metadata": {
        "colab": {
          "base_uri": "https://localhost:8080/"
        },
        "id": "1SEm1KrkEQur",
        "outputId": "d8b812bd-b971-42cf-d0fa-c3934b133d53"
      },
      "execution_count": 60,
      "outputs": [
        {
          "output_type": "stream",
          "name": "stderr",
          "text": [
            "/usr/local/lib/python3.10/dist-packages/keras/src/layers/core/embedding.py:90: UserWarning: Argument `input_length` is deprecated. Just remove it.\n",
            "  warnings.warn(\n"
          ]
        }
      ]
    },
    {
      "cell_type": "markdown",
      "source": [
        "# Step 6: Train the model\n"
      ],
      "metadata": {
        "id": "XDifgKhyEbFG"
      }
    },
    {
      "cell_type": "code",
      "source": [
        "history = model.fit(X_train, y_train, epochs=5, batch_size=64, validation_split=0.2)"
      ],
      "metadata": {
        "colab": {
          "base_uri": "https://localhost:8080/"
        },
        "id": "bEGoAasfEag1",
        "outputId": "e242aa74-55e3-45a0-f46a-a5c3a539d5e3"
      },
      "execution_count": 61,
      "outputs": [
        {
          "output_type": "stream",
          "name": "stdout",
          "text": [
            "Epoch 1/5\n",
            "\u001b[1m500/500\u001b[0m \u001b[32m━━━━━━━━━━━━━━━━━━━━\u001b[0m\u001b[37m\u001b[0m \u001b[1m13s\u001b[0m 22ms/step - accuracy: 0.6734 - loss: 0.5504 - val_accuracy: 0.8596 - val_loss: 0.3208\n",
            "Epoch 2/5\n",
            "\u001b[1m500/500\u001b[0m \u001b[32m━━━━━━━━━━━━━━━━━━━━\u001b[0m\u001b[37m\u001b[0m \u001b[1m11s\u001b[0m 21ms/step - accuracy: 0.9193 - loss: 0.2157 - val_accuracy: 0.8510 - val_loss: 0.3552\n",
            "Epoch 3/5\n",
            "\u001b[1m500/500\u001b[0m \u001b[32m━━━━━━━━━━━━━━━━━━━━\u001b[0m\u001b[37m\u001b[0m \u001b[1m21s\u001b[0m 22ms/step - accuracy: 0.9737 - loss: 0.0859 - val_accuracy: 0.8515 - val_loss: 0.4419\n",
            "Epoch 4/5\n",
            "\u001b[1m500/500\u001b[0m \u001b[32m━━━━━━━━━━━━━━━━━━━━\u001b[0m\u001b[37m\u001b[0m \u001b[1m18s\u001b[0m 17ms/step - accuracy: 0.9919 - loss: 0.0313 - val_accuracy: 0.8379 - val_loss: 0.6267\n",
            "Epoch 5/5\n",
            "\u001b[1m500/500\u001b[0m \u001b[32m━━━━━━━━━━━━━━━━━━━━\u001b[0m\u001b[37m\u001b[0m \u001b[1m11s\u001b[0m 19ms/step - accuracy: 0.9977 - loss: 0.0108 - val_accuracy: 0.8434 - val_loss: 0.6929\n"
          ]
        }
      ]
    },
    {
      "cell_type": "markdown",
      "source": [
        "We see that as the epochs increase, the accuracy and loss decrease, this shows that the model is learning on each epoch"
      ],
      "metadata": {
        "id": "rfM7lDiHJds4"
      }
    },
    {
      "cell_type": "markdown",
      "source": [
        "# Step 7: Evaluate the model\n"
      ],
      "metadata": {
        "id": "WfApEci8E1bo"
      }
    },
    {
      "cell_type": "code",
      "source": [
        "loss, accuracy = model.evaluate(X_test, y_test)\n",
        "print(f'Accuracy on the test set: {accuracy*100:.2f}%')"
      ],
      "metadata": {
        "colab": {
          "base_uri": "https://localhost:8080/"
        },
        "id": "2IkdGVNgE2Ub",
        "outputId": "365b30e4-c466-4616-e3a3-8e8140f85ca0"
      },
      "execution_count": 62,
      "outputs": [
        {
          "output_type": "stream",
          "name": "stdout",
          "text": [
            "\u001b[1m313/313\u001b[0m \u001b[32m━━━━━━━━━━━━━━━━━━━━\u001b[0m\u001b[37m\u001b[0m \u001b[1m1s\u001b[0m 4ms/step - accuracy: 0.8516 - loss: 0.6583\n",
            "Accuracy on the test set: 85.82%\n"
          ]
        }
      ]
    },
    {
      "cell_type": "markdown",
      "source": [
        "The accuracy on the test data is significantly acceptable as it shows a greater accuracy compared to training data"
      ],
      "metadata": {
        "id": "Bj5wPXUCJuba"
      }
    },
    {
      "cell_type": "markdown",
      "source": [
        "# Step 8: Plot loss over epochs\n"
      ],
      "metadata": {
        "id": "hf6TAbDAE7UR"
      }
    },
    {
      "cell_type": "code",
      "source": [
        "plt.plot(history.history['loss'], label='Training Loss')\n",
        "plt.plot(history.history['val_loss'], label='Validation Loss')\n",
        "plt.title('Loss over epochs')\n",
        "plt.xlabel('Epochs')\n",
        "plt.ylabel('Loss')\n",
        "plt.legend()\n",
        "plt.show()"
      ],
      "metadata": {
        "colab": {
          "base_uri": "https://localhost:8080/",
          "height": 472
        },
        "id": "osLLPEx8E8Il",
        "outputId": "59745250-a94c-422a-a5c3-42d024f81564"
      },
      "execution_count": 63,
      "outputs": [
        {
          "output_type": "display_data",
          "data": {
            "text/plain": [
              "<Figure size 640x480 with 1 Axes>"
            ],
            "image/png": "[encoded data removed]"
          },
          "metadata": {}
        }
      ]
    },
    {
      "cell_type": "markdown",
      "source": [
        "- Training Loss: It continuously decreases across epochs, reaching close to zero by the final epoch. This indicates that the model is learning from the training data and minimizing the error effectively.\n",
        "- Validation Loss: It initially decreases slightly, but after the second epoch, it starts increasing. This suggests overfitting, where the model performs well on the training data but struggles to generalize to the validation set. Overfitting becomes more evident in later epochs as the gap between training and validation loss widens."
      ],
      "metadata": {
        "id": "Nc-3AdqbJ_cG"
      }
    },
    {
      "cell_type": "markdown",
      "source": [
        "# Step 9: Predictions on test set\n"
      ],
      "metadata": {
        "id": "L_4FTK4wE-Ca"
      }
    },
    {
      "cell_type": "code",
      "source": [
        "y_pred = (model.predict(X_test) > 0.5).astype(\"int32\")\n",
        "\n",
        "print(f\"Accuracy: {accuracy_score(y_test, y_pred)*100:.2f}%\")"
      ],
      "metadata": {
        "colab": {
          "base_uri": "https://localhost:8080/"
        },
        "id": "2wa1iL4zE_24",
        "outputId": "0a61bb15-cd55-429e-ba11-1fc8b11e8d5a"
      },
      "execution_count": 64,
      "outputs": [
        {
          "output_type": "stream",
          "name": "stdout",
          "text": [
            "\u001b[1m313/313\u001b[0m \u001b[32m━━━━━━━━━━━━━━━━━━━━\u001b[0m\u001b[37m\u001b[0m \u001b[1m1s\u001b[0m 4ms/step\n",
            "Accuracy: 85.82%\n"
          ]
        }
      ]
    },
    {
      "cell_type": "markdown",
      "source": [
        "The model achieves an 85.82% accuracy on the test set, which is close to the validation accuracy. This suggests that while the model generalizes reasonably well, it still suffers from overfitting"
      ],
      "metadata": {
        "id": "c5GXS459K0gK"
      }
    },
    {
      "cell_type": "markdown",
      "source": [
        "### Final interpretation\n",
        "The widening gap between training loss and validation loss, along with the higher loss on the test set, indicates overfitting. This means the model has become too specialized to the training data, failing to generalize as well to new, unseen data."
      ],
      "metadata": {
        "id": "y9F-ikoyLBNO"
      }
    }
  ]
}